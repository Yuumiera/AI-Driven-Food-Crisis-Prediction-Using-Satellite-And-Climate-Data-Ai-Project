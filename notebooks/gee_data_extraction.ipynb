{
 "cells": [
  {
   "cell_type": "markdown",
   "id": "c2f8f176",
   "metadata": {},
   "source": [
    "# GEE ile NDVI Verisi Çekimi"
   ]
  },
  {
   "cell_type": "code",
   "execution_count": null,
   "id": "92b3a526",
   "metadata": {},
   "outputs": [],
   "source": [
    "import ee\n",
    "\n",
    "ee.Authenticate(auth_mode='notebook')\n",
    "ee.Initialize()"
   ]
  },
  {
   "cell_type": "code",
   "execution_count": null,
   "id": "369b7b64",
   "metadata": {},
   "outputs": [],
   "source": [
    "# Kodları buraya ekleyin..."
   ]
  }
 ],
 "metadata": {},
 "nbformat": 4,
 "nbformat_minor": 5
}
