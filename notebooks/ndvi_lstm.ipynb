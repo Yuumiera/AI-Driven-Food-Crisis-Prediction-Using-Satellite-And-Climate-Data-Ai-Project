{
 "cells": [
  {
   "cell_type": "markdown",
   "id": "6e6486a2",
   "metadata": {},
   "source": [
    "# LSTM ile NDVI Zaman Serisi Tahmini"
   ]
  },
  {
   "cell_type": "code",
   "execution_count": null,
   "id": "585af2b5",
   "metadata": {},
   "outputs": [],
   "source": [
    "from src.models.lstm_model import build_lstm_model"
   ]
  },
  {
   "cell_type": "code",
   "execution_count": null,
   "id": "206c31c0",
   "metadata": {},
   "outputs": [],
   "source": [
    "# Kodları buraya ekleyin..."
   ]
  }
 ],
 "metadata": {},
 "nbformat": 4,
 "nbformat_minor": 5
}
